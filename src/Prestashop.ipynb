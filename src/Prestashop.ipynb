{
 "cells": [
  {
   "cell_type": "code",
   "execution_count": 1,
   "metadata": {
    "collapsed": false
   },
   "outputs": [
    {
     "name": "stderr",
     "output_type": "stream",
     "text": [
      "/home/dimitri/anaconda3/lib/python3.5/site-packages/graph_tool/draw/cairo_draw.py:1476: RuntimeWarning: Error importing Gtk module: No module named 'gi'; GTK+ drawing will not work.\n",
      "  warnings.warn(msg, RuntimeWarning)\n"
     ]
    }
   ],
   "source": [
    "import numpy as np\n",
    "import pandas as pd\n",
    "import matplotlib.pyplot as plt\n",
    "%matplotlib inline\n",
    "# import networkx as nx\n",
    "from graph_tool.all import *"
   ]
  },
  {
   "cell_type": "code",
   "execution_count": 2,
   "metadata": {
    "collapsed": false
   },
   "outputs": [
    {
     "data": {
      "text/html": [
       "<div>\n",
       "<table border=\"1\" class=\"dataframe\">\n",
       "  <thead>\n",
       "    <tr style=\"text-align: right;\">\n",
       "      <th></th>\n",
       "      <th>UserID</th>\n",
       "      <th>ItemID</th>\n",
       "      <th>Date</th>\n",
       "      <th>Type</th>\n",
       "    </tr>\n",
       "  </thead>\n",
       "  <tbody>\n",
       "    <tr>\n",
       "      <th>0</th>\n",
       "      <td>905395</td>\n",
       "      <td>3556</td>\n",
       "      <td>2011-03-10T13:48:23</td>\n",
       "      <td>Purchase</td>\n",
       "    </tr>\n",
       "    <tr>\n",
       "      <th>1</th>\n",
       "      <td>908217</td>\n",
       "      <td>3555</td>\n",
       "      <td>2011-03-11T18:48:02</td>\n",
       "      <td>Purchase</td>\n",
       "    </tr>\n",
       "    <tr>\n",
       "      <th>2</th>\n",
       "      <td>952948</td>\n",
       "      <td>3555</td>\n",
       "      <td>2011-03-21T09:30:18</td>\n",
       "      <td>Purchase</td>\n",
       "    </tr>\n",
       "    <tr>\n",
       "      <th>3</th>\n",
       "      <td>42521</td>\n",
       "      <td>3555</td>\n",
       "      <td>2011-04-07T14:37:41</td>\n",
       "      <td>Purchase</td>\n",
       "    </tr>\n",
       "    <tr>\n",
       "      <th>4</th>\n",
       "      <td>179483</td>\n",
       "      <td>3555</td>\n",
       "      <td>2011-05-12T11:30:08</td>\n",
       "      <td>Purchase</td>\n",
       "    </tr>\n",
       "  </tbody>\n",
       "</table>\n",
       "</div>"
      ],
      "text/plain": [
       "   UserID  ItemID                 Date      Type\n",
       "0  905395    3556  2011-03-10T13:48:23  Purchase\n",
       "1  908217    3555  2011-03-11T18:48:02  Purchase\n",
       "2  952948    3555  2011-03-21T09:30:18  Purchase\n",
       "3   42521    3555  2011-04-07T14:37:41  Purchase\n",
       "4  179483    3555  2011-05-12T11:30:08  Purchase"
      ]
     },
     "execution_count": 2,
     "metadata": {},
     "output_type": "execute_result"
    }
   ],
   "source": [
    "usage = pd.read_csv(\"usage.csv\")\n",
    "usage.head()"
   ]
  },
  {
   "cell_type": "code",
   "execution_count": 3,
   "metadata": {
    "collapsed": false,
    "scrolled": true
   },
   "outputs": [
    {
     "data": {
      "text/html": [
       "<div>\n",
       "<table border=\"1\" class=\"dataframe\">\n",
       "  <thead>\n",
       "    <tr style=\"text-align: right;\">\n",
       "      <th></th>\n",
       "      <th>ID</th>\n",
       "      <th>Titre</th>\n",
       "      <th>Catégorie</th>\n",
       "      <th>Précisions1</th>\n",
       "      <th>Précisions2</th>\n",
       "      <th>Précisions3</th>\n",
       "      <th>Précisions4</th>\n",
       "    </tr>\n",
       "  </thead>\n",
       "  <tbody>\n",
       "    <tr>\n",
       "      <th>0</th>\n",
       "      <td>3554</td>\n",
       "      <td>Album d'exposition François Morellet réinstall...</td>\n",
       "      <td>216</td>\n",
       "      <td>12=Ouvrage  broché</td>\n",
       "      <td>13=Français/Anglais</td>\n",
       "      <td>NaN</td>\n",
       "      <td>NaN</td>\n",
       "    </tr>\n",
       "    <tr>\n",
       "      <th>1</th>\n",
       "      <td>3551</td>\n",
       "      <td>Catalogue d'exposition Interware design transv...</td>\n",
       "      <td>216</td>\n",
       "      <td>12=Ouvrage  broché</td>\n",
       "      <td>13=Français</td>\n",
       "      <td>NaN</td>\n",
       "      <td>NaN</td>\n",
       "    </tr>\n",
       "    <tr>\n",
       "      <th>2</th>\n",
       "      <td>3550</td>\n",
       "      <td>Les verres antiques du musée du Louvre - Tome III</td>\n",
       "      <td>135</td>\n",
       "      <td>13=Français</td>\n",
       "      <td>NaN</td>\n",
       "      <td>NaN</td>\n",
       "      <td>NaN</td>\n",
       "    </tr>\n",
       "    <tr>\n",
       "      <th>3</th>\n",
       "      <td>3549</td>\n",
       "      <td>Catalogue d'exposition le théâtre des passions...</td>\n",
       "      <td>216</td>\n",
       "      <td>12=Ouvrage  broché</td>\n",
       "      <td>13=Français</td>\n",
       "      <td>NaN</td>\n",
       "      <td>NaN</td>\n",
       "    </tr>\n",
       "    <tr>\n",
       "      <th>4</th>\n",
       "      <td>117</td>\n",
       "      <td>Gloires de marbres. Trois siècles de portraits.</td>\n",
       "      <td>179</td>\n",
       "      <td>6=Editions 5 Continents</td>\n",
       "      <td>12=Relié</td>\n",
       "      <td>13=Français</td>\n",
       "      <td>NaN</td>\n",
       "    </tr>\n",
       "  </tbody>\n",
       "</table>\n",
       "</div>"
      ],
      "text/plain": [
       "     ID                                              Titre Catégorie  \\\n",
       "0  3554  Album d'exposition François Morellet réinstall...       216   \n",
       "1  3551  Catalogue d'exposition Interware design transv...       216   \n",
       "2  3550  Les verres antiques du musée du Louvre - Tome III       135   \n",
       "3  3549  Catalogue d'exposition le théâtre des passions...       216   \n",
       "4   117    Gloires de marbres. Trois siècles de portraits.       179   \n",
       "\n",
       "                Précisions1           Précisions2   Précisions3 Précisions4  \n",
       "0        12=Ouvrage  broché   13=Français/Anglais           NaN         NaN  \n",
       "1        12=Ouvrage  broché           13=Français           NaN         NaN  \n",
       "2               13=Français                   NaN           NaN         NaN  \n",
       "3        12=Ouvrage  broché           13=Français           NaN         NaN  \n",
       "4   6=Editions 5 Continents              12=Relié   13=Français         NaN  "
      ]
     },
     "execution_count": 3,
     "metadata": {},
     "output_type": "execute_result"
    }
   ],
   "source": [
    "catalog = pd.read_csv(\"catalog.csv\",\n",
    "                      names=['ID', 'Titre', 'Catégorie',\n",
    "                             'Précisions1', 'Précisions2', 'Précisions3', 'Précisions4'],\n",
    "                     skiprows=1)\n",
    "catalog.head()"
   ]
  },
  {
   "cell_type": "code",
   "execution_count": 4,
   "metadata": {
    "collapsed": false,
    "scrolled": true
   },
   "outputs": [
    {
     "data": {
      "text/html": [
       "<div>\n",
       "<table border=\"1\" class=\"dataframe\">\n",
       "  <thead>\n",
       "    <tr style=\"text-align: right;\">\n",
       "      <th></th>\n",
       "      <th>ID</th>\n",
       "      <th>Titre</th>\n",
       "      <th>Catégorie</th>\n",
       "      <th>Précisions1</th>\n",
       "      <th>Précisions2</th>\n",
       "      <th>Précisions3</th>\n",
       "      <th>Précisions4</th>\n",
       "    </tr>\n",
       "  </thead>\n",
       "  <tbody>\n",
       "    <tr>\n",
       "      <th>0</th>\n",
       "      <td>3554</td>\n",
       "      <td>Album d'exposition François Morellet réinstall...</td>\n",
       "      <td>216</td>\n",
       "      <td>12.0</td>\n",
       "      <td>13.0</td>\n",
       "      <td>NaN</td>\n",
       "      <td>NaN</td>\n",
       "    </tr>\n",
       "    <tr>\n",
       "      <th>1</th>\n",
       "      <td>3551</td>\n",
       "      <td>Catalogue d'exposition Interware design transv...</td>\n",
       "      <td>216</td>\n",
       "      <td>12.0</td>\n",
       "      <td>13.0</td>\n",
       "      <td>NaN</td>\n",
       "      <td>NaN</td>\n",
       "    </tr>\n",
       "    <tr>\n",
       "      <th>2</th>\n",
       "      <td>3550</td>\n",
       "      <td>Les verres antiques du musée du Louvre - Tome III</td>\n",
       "      <td>135</td>\n",
       "      <td>13.0</td>\n",
       "      <td>NaN</td>\n",
       "      <td>NaN</td>\n",
       "      <td>NaN</td>\n",
       "    </tr>\n",
       "    <tr>\n",
       "      <th>3</th>\n",
       "      <td>3549</td>\n",
       "      <td>Catalogue d'exposition le théâtre des passions...</td>\n",
       "      <td>216</td>\n",
       "      <td>12.0</td>\n",
       "      <td>13.0</td>\n",
       "      <td>NaN</td>\n",
       "      <td>NaN</td>\n",
       "    </tr>\n",
       "    <tr>\n",
       "      <th>4</th>\n",
       "      <td>117</td>\n",
       "      <td>Gloires de marbres. Trois siècles de portraits.</td>\n",
       "      <td>179</td>\n",
       "      <td>6.0</td>\n",
       "      <td>12.0</td>\n",
       "      <td>13.0</td>\n",
       "      <td>NaN</td>\n",
       "    </tr>\n",
       "  </tbody>\n",
       "</table>\n",
       "</div>"
      ],
      "text/plain": [
       "     ID                                              Titre Catégorie  \\\n",
       "0  3554  Album d'exposition François Morellet réinstall...       216   \n",
       "1  3551  Catalogue d'exposition Interware design transv...       216   \n",
       "2  3550  Les verres antiques du musée du Louvre - Tome III       135   \n",
       "3  3549  Catalogue d'exposition le théâtre des passions...       216   \n",
       "4   117    Gloires de marbres. Trois siècles de portraits.       179   \n",
       "\n",
       "   Précisions1  Précisions2  Précisions3  Précisions4  \n",
       "0         12.0         13.0          NaN          NaN  \n",
       "1         12.0         13.0          NaN          NaN  \n",
       "2         13.0          NaN          NaN          NaN  \n",
       "3         12.0         13.0          NaN          NaN  \n",
       "4          6.0         12.0         13.0          NaN  "
      ]
     },
     "execution_count": 4,
     "metadata": {},
     "output_type": "execute_result"
    }
   ],
   "source": [
    "catalog['Précisions1'] = catalog['Précisions1'].astype(str).map(lambda s: s.split('=')[0])\n",
    "catalog['Précisions1'] = pd.to_numeric(catalog['Précisions1'], errors='coerce')\n",
    "catalog['Précisions2'] = catalog['Précisions2'].astype(str).map(lambda s: s.split('=')[0])\n",
    "catalog['Précisions2'] = pd.to_numeric(catalog['Précisions2'], errors='coerce')\n",
    "catalog['Précisions3'] = catalog['Précisions3'].astype(str).map(lambda s: s.split('=')[0])\n",
    "catalog['Précisions3'] = pd.to_numeric(catalog['Précisions3'], errors='coerce')\n",
    "catalog['Précisions4'] = catalog['Précisions4'].astype(str).map(lambda s: s.split('=')[0])\n",
    "catalog['Précisions4'] = pd.to_numeric(catalog['Précisions4'], errors='coerce')\n",
    "catalog.head()"
   ]
  },
  {
   "cell_type": "code",
   "execution_count": 5,
   "metadata": {
    "collapsed": true
   },
   "outputs": [],
   "source": [
    "g = Graph()\n",
    "for i in range(catalog.ID.size):\n",
    "    g.add_vertex()"
   ]
  },
  {
   "cell_type": "code",
   "execution_count": 6,
   "metadata": {
    "collapsed": true
   },
   "outputs": [],
   "source": [
    "for i in range(catalog.ID.size):\n",
    "    for j in range(catalog.ID.size):\n",
    "        if (i != j & np.intersect1d(catalog.iloc[i, 3:7], catalog.iloc[i, 3:7]).size > 0):\n",
    "            g.add_edge(g.vertex(i), g.vertex(j))"
   ]
  },
  {
   "cell_type": "code",
   "execution_count": 7,
   "metadata": {
    "collapsed": true
   },
   "outputs": [],
   "source": [
    "g.save(\"catalograph.gt\")"
   ]
  },
  {
   "cell_type": "code",
   "execution_count": 8,
   "metadata": {
    "collapsed": true
   },
   "outputs": [],
   "source": [
    "g.save(\"catalograph.xml\")"
   ]
  },
  {
   "cell_type": "code",
   "execution_count": 9,
   "metadata": {
    "collapsed": false
   },
   "outputs": [
    {
     "data": {
      "text/plain": [
       "<Graph object, directed, with 4555 vertices and 22760 edges at 0x7fcee6e2c278>"
      ]
     },
     "execution_count": 9,
     "metadata": {},
     "output_type": "execute_result"
    }
   ],
   "source": [
    "load_graph(\"catalograph.gt\")"
   ]
  },
  {
   "cell_type": "code",
   "execution_count": 10,
   "metadata": {
    "collapsed": false
   },
   "outputs": [
    {
     "data": {
      "text/plain": [
       "<Graph object, directed, with 4555 vertices and 22760 edges at 0x7fcee84c0470>"
      ]
     },
     "execution_count": 10,
     "metadata": {},
     "output_type": "execute_result"
    }
   ],
   "source": [
    "g"
   ]
  },
  {
   "cell_type": "code",
   "execution_count": null,
   "metadata": {
    "collapsed": true
   },
   "outputs": [],
   "source": []
  }
 ],
 "metadata": {
  "anaconda-cloud": {},
  "kernelspec": {
   "display_name": "Python [conda root]",
   "language": "python",
   "name": "conda-root-py"
  },
  "language_info": {
   "codemirror_mode": {
    "name": "ipython",
    "version": 3
   },
   "file_extension": ".py",
   "mimetype": "text/x-python",
   "name": "python",
   "nbconvert_exporter": "python",
   "pygments_lexer": "ipython3",
   "version": "3.5.2"
  }
 },
 "nbformat": 4,
 "nbformat_minor": 1
}
